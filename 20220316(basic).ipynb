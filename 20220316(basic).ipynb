{
  "nbformat": 4,
  "nbformat_minor": 0,
  "metadata": {
    "colab": {
      "name": "20220316(1).ipynb",
      "provenance": [],
      "collapsed_sections": [],
      "authorship_tag": "ABX9TyPclrTullm9qrgC0g91tjMj",
      "include_colab_link": true
    },
    "kernelspec": {
      "name": "python3",
      "display_name": "Python 3"
    },
    "language_info": {
      "name": "python"
    }
  },
  "cells": [
    {
      "cell_type": "markdown",
      "metadata": {
        "id": "view-in-github",
        "colab_type": "text"
      },
      "source": [
        "<a href=\"https://colab.research.google.com/github/jongsung27/class2022Spring/blob/main/20220316(1).ipynb\" target=\"_parent\"><img src=\"https://colab.research.google.com/assets/colab-badge.svg\" alt=\"Open In Colab\"/></a>"
      ]
    },
    {
      "cell_type": "code",
      "execution_count": 7,
      "metadata": {
        "colab": {
          "base_uri": "https://localhost:8080/"
        },
        "id": "hexA2ibVV13z",
        "outputId": "d98e11b1-6bd0-4fc4-c9cb-ae9f0da80841"
      },
      "outputs": [
        {
          "output_type": "stream",
          "name": "stdout",
          "text": [
            "<class 'int'>\n",
            "<class 'float'>\n",
            "<class 'str'>\n",
            "ll\n",
            "<class 'str'>\n"
          ]
        }
      ],
      "source": [
        "a = 15 ; print(type(a))\n",
        "b = 3.0 ; print(type(b))\n",
        "c = 'hello' ; print(type(c)) ; print(c[2:-1])\n",
        "d = '123' ; print(type(d))"
      ]
    },
    {
      "cell_type": "code",
      "source": [
        "e = [1, 2, 3, 4, 5, 6, 7, 8, 9, 10] ; print(type(e)) ; print(e[3:5])\n",
        "f = [1, 'a', [3, '4']] ; print(type(f[2][0])) ; print(type(f[2])) ; print(f[2][1])"
      ],
      "metadata": {
        "colab": {
          "base_uri": "https://localhost:8080/"
        },
        "id": "3D8_z-LNWyHs",
        "outputId": "9f3708d2-2368-4118-8ac3-1170eac52f85"
      },
      "execution_count": 19,
      "outputs": [
        {
          "output_type": "stream",
          "name": "stdout",
          "text": [
            "<class 'list'>\n",
            "[4, 5]\n",
            "<class 'int'>\n",
            "<class 'list'>\n",
            "4\n"
          ]
        }
      ]
    },
    {
      "cell_type": "code",
      "source": [
        "g = {'hello' : 'goodbye', 'good morning' : 'good night'}\n",
        "print(type(g)) ; print(g['hello'])"
      ],
      "metadata": {
        "colab": {
          "base_uri": "https://localhost:8080/"
        },
        "id": "rIXCO8nMZi5C",
        "outputId": "45e9d910-0197-4aa1-ee57-e682ea678749"
      },
      "execution_count": 22,
      "outputs": [
        {
          "output_type": "stream",
          "name": "stdout",
          "text": [
            "<class 'dict'>\n",
            "goodbye\n"
          ]
        }
      ]
    },
    {
      "cell_type": "code",
      "source": [
        "a1 = 'abcdefg' ; print(a1[2], a1[-3], a1[4])\n",
        "print(a1[0:2], a1[:], a1[:-2]) ; print(len(a1)) ; print(len(a1[:-2]))\n",
        "print(a1[2]+a1[3]*5) ; print(a1.upper()) ; print(a1[::-1])"
      ],
      "metadata": {
        "colab": {
          "base_uri": "https://localhost:8080/"
        },
        "id": "6ISp1FI-crnZ",
        "outputId": "319acc76-dd44-4bd4-b405-f5a22d762030"
      },
      "execution_count": 37,
      "outputs": [
        {
          "output_type": "stream",
          "name": "stdout",
          "text": [
            "c e e\n",
            "ab abcdefg abcde\n",
            "7\n",
            "5\n",
            "cddddd\n",
            "ABCDEFG\n",
            "gfedcba\n"
          ]
        }
      ]
    },
    {
      "cell_type": "code",
      "source": [
        "a2 = [10, 100, 1000] ; print(a2[2], a2[-3], a2[0])\n",
        "print(a2[0:2], a2[:], a2[:-2])"
      ],
      "metadata": {
        "colab": {
          "base_uri": "https://localhost:8080/"
        },
        "id": "NUZPHsWQc65P",
        "outputId": "8471e69a-b273-4ca3-e041-d076425f02ed"
      },
      "execution_count": 28,
      "outputs": [
        {
          "output_type": "stream",
          "name": "stdout",
          "text": [
            "1000 10 10\n",
            "[10, 100] [10, 100, 1000] [10]\n"
          ]
        }
      ]
    },
    {
      "cell_type": "code",
      "source": [
        "a3 = ' I love you.\\n\\n\\nGood night.' ; print(a3)"
      ],
      "metadata": {
        "colab": {
          "base_uri": "https://localhost:8080/"
        },
        "id": "r3rQA64Vdfbx",
        "outputId": "d9d076da-8514-419b-bf20-359b6c54ef92"
      },
      "execution_count": 40,
      "outputs": [
        {
          "output_type": "stream",
          "name": "stdout",
          "text": [
            " I love you.\n",
            "\n",
            "\n",
            "Good night.\n"
          ]
        }
      ]
    },
    {
      "cell_type": "code",
      "source": [
        "result = a3.find('Good') ; print(result)\n",
        "result2 = a3.strip('.') ; print(result2)\n",
        "result3 = a3.split('\\n') ; print(result3)\n",
        "result4 = '/'.join(result3) ; print(result4)\n",
        "result5 = a3.replace('love', 'hate') ; print(result5)\n",
        "result6 = a3.replace('\\n', ' ') ; print(result6)"
      ],
      "metadata": {
        "colab": {
          "base_uri": "https://localhost:8080/"
        },
        "id": "5B7A_1FPesqO",
        "outputId": "a47239e3-297e-4a72-8544-5ac9dfedeccb"
      },
      "execution_count": 55,
      "outputs": [
        {
          "output_type": "stream",
          "name": "stdout",
          "text": [
            "15\n",
            " I love you.\n",
            "\n",
            "\n",
            "Good night\n",
            "[' I love you.', '', '', 'Good night.']\n",
            " I love you.///Good night.\n",
            " I hate you.\n",
            "\n",
            "\n",
            "Good night.\n",
            " I love you.   Good night.\n"
          ]
        }
      ]
    },
    {
      "cell_type": "code",
      "source": [
        "def function(a,b):\n",
        "  return (a-1)*(a-b)+(b+1)/(b-a)\n",
        "\n",
        "print(function(3,5))"
      ],
      "metadata": {
        "colab": {
          "base_uri": "https://localhost:8080/"
        },
        "id": "WBmiQMBqe-CU",
        "outputId": "eeed3b17-e66d-4379-a071-b07850d66383"
      },
      "execution_count": 59,
      "outputs": [
        {
          "output_type": "stream",
          "name": "stdout",
          "text": [
            "-1.0\n"
          ]
        }
      ]
    }
  ]
}
