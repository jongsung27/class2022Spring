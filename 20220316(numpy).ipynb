{
  "nbformat": 4,
  "nbformat_minor": 0,
  "metadata": {
    "colab": {
      "name": "20220316(numpy).ipynb",
      "provenance": [],
      "collapsed_sections": [],
      "authorship_tag": "ABX9TyM62jLhLj8TC+eYXfgn1uHB",
      "include_colab_link": true
    },
    "kernelspec": {
      "name": "python3",
      "display_name": "Python 3"
    },
    "language_info": {
      "name": "python"
    }
  },
  "cells": [
    {
      "cell_type": "markdown",
      "metadata": {
        "id": "view-in-github",
        "colab_type": "text"
      },
      "source": [
        "<a href=\"https://colab.research.google.com/github/jongsung27/class2022Spring/blob/main/20220316(numpy).ipynb\" target=\"_parent\"><img src=\"https://colab.research.google.com/assets/colab-badge.svg\" alt=\"Open In Colab\"/></a>"
      ]
    },
    {
      "cell_type": "code",
      "execution_count": 1,
      "metadata": {
        "id": "Jawt_eSim-tu"
      },
      "outputs": [],
      "source": [
        "import numpy as np"
      ]
    },
    {
      "cell_type": "markdown",
      "source": [
        "### 배열"
      ],
      "metadata": {
        "id": "30KtHc_Qrrtl"
      }
    },
    {
      "cell_type": "code",
      "source": [
        "x = np.array([1,2,3,4,5])\n",
        "# 배열(리스트와 달리 적은 메모리로 많은 데이터 처리 가능)\n",
        "print(x)\n",
        "print(type(x))\n",
        "print(x.ndim) # 배열의 차원\n",
        "print(x.shape) # 배열의 크기"
      ],
      "metadata": {
        "colab": {
          "base_uri": "https://localhost:8080/"
        },
        "id": "WvmHjIyBnyDJ",
        "outputId": "b2d88333-ac23-4f35-cf01-1675a896d3d2"
      },
      "execution_count": 8,
      "outputs": [
        {
          "output_type": "stream",
          "name": "stdout",
          "text": [
            "['1' '2' '3' '4' 'abc']\n",
            "<class 'numpy.ndarray'>\n",
            "1\n",
            "(5,)\n"
          ]
        }
      ]
    },
    {
      "cell_type": "code",
      "source": [
        "y = np.arange(10,1,-3) #시작, 끝(포함하지 않음), 증가값\n",
        "print(y)\n",
        "print(type(y))\n",
        "print(y.ndim)\n",
        "print(y.shape)"
      ],
      "metadata": {
        "colab": {
          "base_uri": "https://localhost:8080/"
        },
        "id": "-p-FVziQn9nN",
        "outputId": "07bd135c-8f9b-4091-fd9d-1e7777dc80fa"
      },
      "execution_count": 12,
      "outputs": [
        {
          "output_type": "stream",
          "name": "stdout",
          "text": [
            "[10  7  4]\n",
            "<class 'numpy.ndarray'>\n",
            "1\n",
            "(3,)\n"
          ]
        }
      ]
    },
    {
      "cell_type": "code",
      "source": [
        "z = np.linspace(0,100,21) #전체 구간을 지정한 구간의 수만큼 분할\n",
        "print(z)\n",
        "print(type(z))\n",
        "print(z.ndim)\n",
        "print(z.shape)"
      ],
      "metadata": {
        "colab": {
          "base_uri": "https://localhost:8080/"
        },
        "id": "vQkhWNhNpTrE",
        "outputId": "f438218b-4166-4fe9-decd-637b35c0fb33"
      },
      "execution_count": 25,
      "outputs": [
        {
          "output_type": "stream",
          "name": "stdout",
          "text": [
            "[  0.   5.  10.  15.  20.  25.  30.  35.  40.  45.  50.  55.  60.  65.\n",
            "  70.  75.  80.  85.  90.  95. 100.]\n",
            "<class 'numpy.ndarray'>\n",
            "1\n",
            "(21,)\n"
          ]
        }
      ]
    },
    {
      "cell_type": "code",
      "source": [
        "x2 = np.array([[1,2,3,4], [5,6,7,8]])\n",
        "print(x2)\n",
        "print(type(x2))\n",
        "print(x2.ndim)\n",
        "print(x2.shape)"
      ],
      "metadata": {
        "colab": {
          "base_uri": "https://localhost:8080/"
        },
        "id": "cE0dUMadpx4v",
        "outputId": "3615e730-ad5e-4ff9-c401-6e118cfc56ba"
      },
      "execution_count": 27,
      "outputs": [
        {
          "output_type": "stream",
          "name": "stdout",
          "text": [
            "[[1 2 3 4]\n",
            " [5 6 7 8]]\n",
            "<class 'numpy.ndarray'>\n",
            "2\n",
            "(2, 4)\n"
          ]
        }
      ]
    },
    {
      "cell_type": "code",
      "source": [
        "x3 = np.array([[[1,2,3,4], [5,6,7,8]], [[9,10,11,12], [13,14,15,16]]])\n",
        "print(x3)\n",
        "print(type(x3))\n",
        "print(x3.ndim)\n",
        "print(x3.shape)"
      ],
      "metadata": {
        "colab": {
          "base_uri": "https://localhost:8080/"
        },
        "id": "b05rSqttqji_",
        "outputId": "b546e241-2de5-4f1b-d4b6-4e903c3e21b9"
      },
      "execution_count": 29,
      "outputs": [
        {
          "output_type": "stream",
          "name": "stdout",
          "text": [
            "[[[ 1  2  3  4]\n",
            "  [ 5  6  7  8]]\n",
            "\n",
            " [[ 9 10 11 12]\n",
            "  [13 14 15 16]]]\n",
            "<class 'numpy.ndarray'>\n",
            "3\n",
            "(2, 2, 4)\n"
          ]
        }
      ]
    },
    {
      "cell_type": "code",
      "source": [
        "x4 = np.ones([2,2,3]) #1로 이루어진 배열 생성\n",
        "print(x4)\n",
        "print(type(x4))\n",
        "print(x4.ndim)\n",
        "print(x4.shape)"
      ],
      "metadata": {
        "colab": {
          "base_uri": "https://localhost:8080/"
        },
        "id": "ZyPNptFuqxEn",
        "outputId": "29eff3b8-e075-475b-f261-6ebec4c28159"
      },
      "execution_count": 39,
      "outputs": [
        {
          "output_type": "stream",
          "name": "stdout",
          "text": [
            "[[[1. 1. 1.]\n",
            "  [1. 1. 1.]]\n",
            "\n",
            " [[1. 1. 1.]\n",
            "  [1. 1. 1.]]]\n",
            "<class 'numpy.ndarray'>\n",
            "3\n",
            "(2, 2, 3)\n"
          ]
        }
      ]
    },
    {
      "cell_type": "code",
      "source": [
        "x5 = np.zeros([2,2,3]) #0으로 이루어진 배열 생성\n",
        "print(x5)\n",
        "print(type(x5))\n",
        "print(x5.ndim)\n",
        "print(x5.shape)"
      ],
      "metadata": {
        "colab": {
          "base_uri": "https://localhost:8080/"
        },
        "id": "wsoUoAUzrICp",
        "outputId": "56be8807-8a3f-4e2b-bc37-bdbebb1d629c"
      },
      "execution_count": 40,
      "outputs": [
        {
          "output_type": "stream",
          "name": "stdout",
          "text": [
            "[[[0. 0. 0.]\n",
            "  [0. 0. 0.]]\n",
            "\n",
            " [[0. 0. 0.]\n",
            "  [0. 0. 0.]]]\n",
            "<class 'numpy.ndarray'>\n",
            "3\n",
            "(2, 2, 3)\n"
          ]
        }
      ]
    },
    {
      "cell_type": "markdown",
      "source": [
        "### random numbers"
      ],
      "metadata": {
        "id": "cKpu5NYArvRA"
      }
    },
    {
      "cell_type": "code",
      "source": [
        "import matplotlib.pyplot as plt"
      ],
      "metadata": {
        "id": "Rz7HzdFirm6n"
      },
      "execution_count": 41,
      "outputs": []
    },
    {
      "cell_type": "code",
      "source": [
        "a = np.random.normal(0, 1, 100) # 정규분포에서 100개의 랜덤한 수를 뽑음\n",
        "print(a)\n",
        "plt.hist(a, bins=7) # 도수분포표 작성, bins는 가로축 구간수를 정한다"
      ],
      "metadata": {
        "colab": {
          "base_uri": "https://localhost:8080/",
          "height": 651
        },
        "id": "OYwJjTTIr0j8",
        "outputId": "2bd3cd94-3352-4054-e682-66c0a562b368"
      },
      "execution_count": 45,
      "outputs": [
        {
          "output_type": "stream",
          "name": "stdout",
          "text": [
            "[-0.44472565  0.75701544 -1.67100974  0.35848117 -1.24889373 -1.27333003\n",
            " -0.17051641  0.68442343 -0.34986564 -1.48150702  0.17698493  0.18071146\n",
            " -1.39799535 -0.78194885  1.01678457 -0.73922347 -0.54044287  1.15187275\n",
            "  1.02847897 -1.5917954  -0.32929457  0.1252475   0.95138664 -1.14214291\n",
            " -0.02717638 -0.61879109  0.92376315  0.16633392  0.06945044 -1.27571734\n",
            " -0.88139886  0.87606299  0.2766079   0.58103646 -2.30360445 -1.44466185\n",
            "  0.36962775 -0.3550631  -0.95690891 -1.12066806  1.84534234  1.87841422\n",
            "  0.23130308 -0.70531213 -0.96012814 -0.54128411 -0.24750124 -0.98713358\n",
            " -1.41992805  1.67571964 -0.31699571 -0.53921358  0.11629833 -0.75155944\n",
            "  0.34685893 -0.2435286  -0.53847148  1.45686711 -0.82171861  1.11740173\n",
            "  1.12402259 -0.90549094  0.94419456  0.42629353  0.66144538 -0.11295914\n",
            "  1.84273057 -1.44094339  0.33811781 -0.62007247  0.27777944 -0.10589097\n",
            "  0.10086779  1.60717442  1.45917535 -0.56021356 -1.04509305 -0.02828091\n",
            " -0.24267582 -2.9455467   0.63000618 -0.09346432  0.61313768 -0.12605584\n",
            " -1.08974756  1.26773207  1.36452537 -0.28837915  0.52163523  0.45165497\n",
            " -0.27063144  0.47738089  0.20653323  0.80535581  0.51716588 -2.38426909\n",
            "  1.57664594 -0.25850533  0.71535081  0.71211592]\n"
          ]
        },
        {
          "output_type": "execute_result",
          "data": {
            "text/plain": [
              "(array([ 3.,  2., 17., 23., 25., 20., 10.]),\n",
              " array([-2.9455467 , -2.25640943, -1.56727215, -0.87813488, -0.1889976 ,\n",
              "         0.50013967,  1.18927695,  1.87841422]),\n",
              " <a list of 7 Patch objects>)"
            ]
          },
          "metadata": {},
          "execution_count": 45
        },
        {
          "output_type": "display_data",
          "data": {
            "text/plain": [
              "<Figure size 432x288 with 1 Axes>"
            ],
            "image/png": "[encoded data removed]"
          },
          "metadata": {
            "needs_background": "light"
          }
        }
      ]
    },
    {
      "cell_type": "markdown",
      "source": [
        "### sine curve"
      ],
      "metadata": {
        "id": "i1fmFRcAtSRN"
      }
    },
    {
      "cell_type": "code",
      "source": [
        "plt.figure()\n",
        "\n",
        "data1 = np.linspace(0, 2*np.pi, 100)\n",
        "s1 = np.sin(data1)\n",
        "data2 = np.linspace(0, 2*np.pi, 100) + np.pi/2\n",
        "s2 = np.sin(data2)\n",
        "\n",
        "plt.subplot(3, 1, 1) # subplot은 그래프 모양을 정해준다. (rows, columns, panel number)\n",
        "plt.plot(data1, s1, '.')\n",
        "plt.subplot(3, 1, 3)\n",
        "plt.plot(data2, s2, '.')"
      ],
      "metadata": {
        "colab": {
          "base_uri": "https://localhost:8080/",
          "height": 284
        },
        "id": "54dv6_Z-shbk",
        "outputId": "135fc596-3649-4e86-cd53-682c423ee3f0"
      },
      "execution_count": 52,
      "outputs": [
        {
          "output_type": "execute_result",
          "data": {
            "text/plain": [
              "[<matplotlib.lines.Line2D at 0x7f99899f8810>]"
            ]
          },
          "metadata": {},
          "execution_count": 52
        },
        {
          "output_type": "display_data",
          "data": {
            "text/plain": [
              "<Figure size 432x288 with 2 Axes>"
            ],
            "image/png": "[encoded data removed]"
          },
          "metadata": {
            "needs_background": "light"
          }
        }
      ]
    },
    {
      "cell_type": "code",
      "source": [
        "np.corrcoef(s1,s2) #피어슨 상관계수 값 구하기"
      ],
      "metadata": {
        "colab": {
          "base_uri": "https://localhost:8080/"
        },
        "id": "wOOy6jZ2ueNT",
        "outputId": "9ede8f9c-812d-498a-a242-35cde6963214"
      },
      "execution_count": 47,
      "outputs": [
        {
          "output_type": "execute_result",
          "data": {
            "text/plain": [
              "array([[1.00000000e+00, 2.41915449e-17],\n",
              "       [2.41915449e-17, 1.00000000e+00]])"
            ]
          },
          "metadata": {},
          "execution_count": 47
        }
      ]
    }
  ]
}